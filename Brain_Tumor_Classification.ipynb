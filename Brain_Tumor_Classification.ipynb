{
  "cells": [
    {
      "cell_type": "markdown",
      "metadata": {
        "id": "view-in-github",
        "colab_type": "text"
      },
      "source": [
        "<a href=\"https://colab.research.google.com/github/Maryam101/Biomedical-Image-Processing/blob/main/Copy_of_Biomedical_.ipynb\" target=\"_parent\"><img src=\"https://colab.research.google.com/assets/colab-badge.svg\" alt=\"Open In Colab\"/></a>"
      ]
    },
    {
      "cell_type": "markdown",
      "metadata": {
        "id": "Gs3aiQyeygvn"
      },
      "source": [
        "#3.  Classification"
      ]
    },
    {
      "cell_type": "code",
      "source": [
        "!unzip -q \"/content/Brain tumor (2).zip\""
      ],
      "metadata": {
        "id": "64WFOSg2O40f"
      },
      "execution_count": null,
      "outputs": []
    },
    {
      "cell_type": "code",
      "execution_count": null,
      "metadata": {
        "id": "RZm8abfRz74m"
      },
      "outputs": [],
      "source": [
        "#imports\n",
        "import os\n",
        "import cv2\n",
        "import numpy as np\n",
        "import tensorflow as tf \n",
        "import matplotlib.pyplot as plt\n",
        "from random import shuffle\n",
        "from tqdm import tqdm\n",
        "import albumentations as A\n"
      ]
    },
    {
      "cell_type": "code",
      "execution_count": null,
      "metadata": {
        "id": "j71XEnVBy6xj",
        "colab": {
          "base_uri": "https://localhost:8080/"
        },
        "outputId": "fa260964-2ba6-410a-d0d7-cbb6394a76ba"
      },
      "outputs": [
        {
          "output_type": "stream",
          "name": "stdout",
          "text": [
            "Directory 'TEST' created\n",
            "Directory 'Validation' created\n"
          ]
        }
      ],
      "source": [
        "#create the testset\n",
        "  \n",
        "# Directory\n",
        "directory = \"TEST\"\n",
        "  \n",
        "# Parent Directory path\n",
        "parent_dir = \"/content/Brain tumor\"\n",
        "  \n",
        "# Path\n",
        "path = os.path.join(parent_dir, directory)\n",
        "  \n",
        "os.mkdir(path)\n",
        "print(\"Directory '% s' created\" % directory)\n",
        "\n",
        "#create the Validation  \n",
        "# Directory\n",
        "directory = \"Validation\"\n",
        "  \n",
        "# Parent Directory path\n",
        "parent_dir = \"/content/Brain tumor\"\n",
        "  \n",
        "# Path\n",
        "path = os.path.join(parent_dir, directory)\n",
        "  \n",
        "os.mkdir(path)\n",
        "print(\"Directory '% s' created\" % directory)"
      ]
    },
    {
      "cell_type": "code",
      "execution_count": null,
      "metadata": {
        "id": "X3bJcpFJzJ84",
        "colab": {
          "base_uri": "https://localhost:8080/"
        },
        "outputId": "419fc795-e080-4f31-c85b-0588b1e3314d"
      },
      "outputs": [
        {
          "output_type": "stream",
          "name": "stdout",
          "text": [
            "Yes: 155\n",
            "No: 98\n"
          ]
        }
      ],
      "source": [
        "MODEL_NAME = 'Brain_tumor_detection'\n",
        "\n",
        "TRAIN_DIR=[\"/content/Brain tumor/brain_tumor_dataset/yes\", \"/content/Brain tumor/brain_tumor_dataset/no\"]\n",
        "VALID_DIR=\"/content/Brain tumor/Validation\"\n",
        "\n",
        "img_size=224\n",
        "lr=3e-5\n",
        "\n",
        "#Count the number of images in each class\n",
        "for dir_path in TRAIN_DIR:\n",
        "  count=len([entry for entry in os.listdir(dir_path) if os.path.isfile(os.path.join(dir_path, entry))])\n",
        "  if dir_path == TRAIN_DIR[0]:\n",
        "    print(\"Yes:\", count)\n",
        "  else:\n",
        "    print(\"No:\", count)  "
      ]
    },
    {
      "cell_type": "code",
      "execution_count": null,
      "metadata": {
        "id": "zDh7KVug0FLI",
        "colab": {
          "base_uri": "https://localhost:8080/"
        },
        "outputId": "d8a3f06b-ec8c-452c-a546-6038c289b01c"
      },
      "outputs": [
        {
          "output_type": "stream",
          "name": "stdout",
          "text": [
            "Test length:  22\n",
            "Validation length:  49\n"
          ]
        }
      ],
      "source": [
        "#Splitting Data\n",
        "#Create Test Set\n",
        "# 10% images from each class are moved to Test folder \n",
        "import shutil\n",
        "\n",
        "# absolute path\n",
        "src_path1 = r\"/content/Brain tumor/brain_tumor_dataset/yes\"\n",
        "src_path2 = r\"/content/Brain tumor/brain_tumor_dataset/no\"\n",
        "dst_path = r'/content/Brain tumor/TEST'\n",
        "\n",
        "\n",
        "YES= os.listdir(src_path1)\n",
        "NO = os.listdir(src_path2)\n",
        "\n",
        "#Moving Yes\n",
        "for i in range (0, 14):      \n",
        "      file_name= YES[i]\n",
        "      # construct full file path\n",
        "      source = src_path1 + '/'+file_name\n",
        "      destination = dst_path  +'/'+file_name\n",
        "      # move only files\n",
        "      if os.path.isfile(source):\n",
        "        shutil.move(source, destination)\n",
        "\n",
        "#Moving NO\n",
        "for i in range (0, 8):      \n",
        "      file_name= NO[i]\n",
        "      # construct full file path\n",
        "      source = src_path2 + '/'+file_name\n",
        "      destination = dst_path+ '/'+file_name\n",
        "\n",
        "      # move only files\n",
        "      if os.path.isfile(source):\n",
        "          shutil.move(source, destination)\n",
        "        \n",
        "TEST=os.listdir(dst_path)\n",
        "print(\"Test length: \",len(TEST))\n",
        "\n",
        "#Create Validation Set\n",
        "# Moving 20% of images in each class to Validation Folder \n",
        "# absolute path\n",
        "src_path1 = r\"/content/Brain tumor/brain_tumor_dataset/yes\"\n",
        "src_path2 = r\"/content/Brain tumor/brain_tumor_dataset/no\"\n",
        "dst_path = r\"/content/Brain tumor/Validation\"\n",
        "\n",
        "\n",
        "YES = os.listdir(src_path1)\n",
        "NO = os.listdir(src_path2)\n",
        "\n",
        "for i in range (0, 30):      \n",
        "      file_name= YES[i]\n",
        "      # construct full file path\n",
        "      source = src_path1 + '/'+file_name\n",
        "      destination = dst_path  +'/'+file_name\n",
        "      # move only files\n",
        "      if os.path.isfile(source):\n",
        "        shutil.move(source, destination)\n",
        "\n",
        "for i in range (0, 19):      \n",
        "      file_name= NO[i]\n",
        "      # construct full file path\n",
        "      source = src_path2 + '/'+file_name\n",
        "      destination = dst_path+ '/'+file_name\n",
        "\n",
        "      # move only files\n",
        "      if os.path.isfile(source):\n",
        "          shutil.move(source, destination)\n",
        "        \n",
        "\n",
        "validation=os.listdir(dst_path)\n",
        "print(\"Validation length: \",len(validation))"
      ]
    },
    {
      "cell_type": "code",
      "execution_count": null,
      "metadata": {
        "id": "sxB_vBck1kaF",
        "colab": {
          "base_uri": "https://localhost:8080/"
        },
        "outputId": "0d9e3062-5b8e-454f-f94a-ad4f007b54f4"
      },
      "outputs": [
        {
          "output_type": "stream",
          "name": "stdout",
          "text": [
            "633\n"
          ]
        }
      ],
      "source": [
        "#Preprocessing\n",
        "#Augmentation\n",
        "path = r\"/content/Brain tumor/brain_tumor_dataset/yes\"\n",
        "\n",
        "num_images = 300\n",
        "\n",
        "# Define the augmentation pipeline\n",
        "transform = A.Compose([\n",
        "    A.HorizontalFlip(p=0.5),\n",
        "    A.VerticalFlip(p=0.5),\n",
        "    A.Rotate(limit=30, p=0.5),\n",
        "    A.RandomBrightnessContrast(p=0.5)\n",
        "])\n",
        "\n",
        "images = []\n",
        "for i in os.listdir(path):\n",
        "    img = cv2.imread(os.path.join(path, i))#\n",
        "    images.append(img)\n",
        "\n",
        "while len(images) < num_images:\n",
        "    aug_data = transform(image=images[np.random.randint(len(images))]) \n",
        "    print(aug_data)\n",
        "    aug_img = aug_data['image']\n",
        "    images.append(aug_img)\n",
        "\n",
        "print(len(images))\n",
        "\n",
        "for i in range(len(images)):\n",
        "    aug_img = images[i ]\n",
        "    cv2.imwrite(os.path.join(path, f\"aug_{i}YES.JPG\"), aug_img)"
      ]
    },
    {
      "cell_type": "code",
      "execution_count": null,
      "metadata": {
        "id": "Vksh0-78190R"
      },
      "outputs": [],
      "source": [
        "#Preprocessing\n",
        "#Augmentation\n",
        "path = r\"/content/Brain tumor/brain_tumor_dataset/no\"\n",
        "\n",
        "num_images = 310\n",
        "\n",
        "# Define the augmentation pipeline\n",
        "transform = A.Compose([\n",
        "    A.HorizontalFlip(p=0.5),\n",
        "    A.VerticalFlip(p=0.5),\n",
        "    A.Rotate(limit=30, p=0.5),\n",
        "    A.RandomBrightnessContrast(p=0.5)\n",
        "])\n",
        "\n",
        "images = []\n",
        "for i in os.listdir(path):\n",
        "    img = cv2.imread(os.path.join(path, i))\n",
        "    images.append(img)\n",
        "\n",
        "while len(images) < num_images:\n",
        "    aug_data = transform(image=images[np.random.randint(len(images))])\n",
        "    aug_img = aug_data['image']\n",
        "    images.append(aug_img)\n",
        "\n",
        "print(len(images))\n",
        "\n",
        "for i in range(len(images)):\n",
        "    aug_img = images[i ]\n",
        "    cv2.imwrite(os.path.join(path, f\"aug_{i}NO.JPG\"), aug_img)"
      ]
    },
    {
      "cell_type": "code",
      "execution_count": null,
      "metadata": {
        "id": "FnfrSzUn2NI1"
      },
      "outputs": [],
      "source": [
        "def create_label(directory):\n",
        "    if directory == TRAIN_DIR[0]:\n",
        "        return np.array([1,0]) # YES\n",
        "    elif directory == TRAIN_DIR[1]:\n",
        "        return np.array([0,1]) # NO\n",
        "    elif directory[32]==\"Y\":\n",
        "        return np.array([1,0])\n",
        "    elif directory[32]==\"N\":\n",
        "        return np.array([0,1])\n",
        "\n",
        "def create_train_data():\n",
        "  training_data = []\n",
        "  for i in range(len(TRAIN_DIR)):\n",
        "        for img in tqdm(os.listdir(TRAIN_DIR[i])[:]):\n",
        "            path = os.path.join(TRAIN_DIR[i], img)\n",
        "            img_data = cv2.imread(path, 0)\n",
        "            img_data = cv2.resize(img_data, (img_size, img_size))\n",
        "            label=create_label(TRAIN_DIR[i])\n",
        "            training_data.append((img_data, label))       \n",
        "  shuffle(training_data)\n",
        "  np.save('train_data.npy', training_data)\n",
        "  return np.array(training_data)\n",
        "\n",
        "\n",
        "def create_validation_data():\n",
        "    validation_data = []\n",
        "    for img in tqdm(os.listdir(VALID_DIR)):\n",
        "        path = os.path.join(VALID_DIR, img)\n",
        "        img_data = cv2.imread(path, 0)\n",
        "        img_data = cv2.resize(img_data, (img_size, img_size))\n",
        "        label = create_label(path)  # Pass the directory to create_label()\n",
        "        validation_data.append((img_data, label))\n",
        "    shuffle(validation_data)\n",
        "    np.save('validation_data.npy', validation_data)\n",
        "    return np.array(validation_data)\n",
        "\n",
        "\n",
        "if (os.path.exists('train_data.npy')):  # If you have already created the dataset:\n",
        "    train_data = np.load('train_data.npy', allow_pickle=True)\n",
        "\n",
        "else:\n",
        "    train_data = create_train_data()\n",
        "\n",
        "if (os.path.exists('validation_data.npy')):  # If you have already created the dataset:\n",
        "    validation_data = np.load('validation_data.npy', allow_pickle=True)\n",
        "\n",
        "else:\n",
        "    validation_data = create_validation_data()\n",
        "    "
      ]
    },
    {
      "cell_type": "code",
      "execution_count": null,
      "metadata": {
        "id": "eLZ90YW12W0C"
      },
      "outputs": [],
      "source": [
        "train=train_data\n",
        "validation=validation_data\n",
        "\n",
        "#split img from its label\n",
        "x_train= np.array([i[0] for i in train]).reshape(-1, img_size, img_size,1)\n",
        "y_train = [i[1] for i in train]\n",
        "\n",
        "x_validate= np.array([i[0] for i in validation]).reshape(-1, img_size, img_size,1)\n",
        "y_validate = [i[1] for i in validation]\n",
        "\n",
        "x_train = x_train.astype(\"float32\") / 255.0\n",
        "x_validate = x_validate.astype(\"float32\") / 255.0\n",
        "\n",
        "X_train = np.stack(x_train).reshape(-1, img_size,img_size, 1)\n",
        "X_validate = np.stack(x_validate).reshape(-1, img_size, img_size, 1)\n",
        "\n",
        "y_train = np.stack(y_train).reshape(X_train.shape[0], 2)\n",
        "y_validate = np.stack(y_validate).reshape(X_validate.shape[0],2)\n"
      ]
    },
    {
      "cell_type": "code",
      "execution_count": null,
      "metadata": {
        "id": "tp1MpFf-oO95",
        "colab": {
          "base_uri": "https://localhost:8080/"
        },
        "outputId": "dbaa1734-823d-4e3d-a23e-e6d32c51cb5b"
      },
      "outputs": [
        {
          "output_type": "stream",
          "name": "stdout",
          "text": [
            "Model: \"model_2\"\n",
            "_________________________________________________________________\n",
            " Layer (type)                Output Shape              Param #   \n",
            "=================================================================\n",
            " input_3 (InputLayer)        [(None, 224, 224, 1)]     0         \n",
            "                                                                 \n",
            " conv2d_26 (Conv2D)          (None, 224, 224, 64)      640       \n",
            "                                                                 \n",
            " conv2d_27 (Conv2D)          (None, 224, 224, 64)      36928     \n",
            "                                                                 \n",
            " max_pooling2d_10 (MaxPoolin  (None, 112, 112, 64)     0         \n",
            " g2D)                                                            \n",
            "                                                                 \n",
            " conv2d_28 (Conv2D)          (None, 112, 112, 128)     73856     \n",
            "                                                                 \n",
            " conv2d_29 (Conv2D)          (None, 112, 112, 128)     147584    \n",
            "                                                                 \n",
            " max_pooling2d_11 (MaxPoolin  (None, 56, 56, 128)      0         \n",
            " g2D)                                                            \n",
            "                                                                 \n",
            " conv2d_30 (Conv2D)          (None, 56, 56, 256)       295168    \n",
            "                                                                 \n",
            " conv2d_31 (Conv2D)          (None, 56, 56, 256)       590080    \n",
            "                                                                 \n",
            " conv2d_32 (Conv2D)          (None, 56, 56, 256)       590080    \n",
            "                                                                 \n",
            " max_pooling2d_12 (MaxPoolin  (None, 28, 28, 256)      0         \n",
            " g2D)                                                            \n",
            "                                                                 \n",
            " conv2d_33 (Conv2D)          (None, 28, 28, 512)       1180160   \n",
            "                                                                 \n",
            " conv2d_34 (Conv2D)          (None, 28, 28, 512)       2359808   \n",
            "                                                                 \n",
            " conv2d_35 (Conv2D)          (None, 28, 28, 512)       2359808   \n",
            "                                                                 \n",
            " max_pooling2d_13 (MaxPoolin  (None, 14, 14, 512)      0         \n",
            " g2D)                                                            \n",
            "                                                                 \n",
            " conv2d_36 (Conv2D)          (None, 14, 14, 512)       2359808   \n",
            "                                                                 \n",
            " conv2d_37 (Conv2D)          (None, 14, 14, 512)       2359808   \n",
            "                                                                 \n",
            " conv2d_38 (Conv2D)          (None, 14, 14, 512)       2359808   \n",
            "                                                                 \n",
            " max_pooling2d_14 (MaxPoolin  (None, 7, 7, 512)        0         \n",
            " g2D)                                                            \n",
            "                                                                 \n",
            " flatten_2 (Flatten)         (None, 25088)             0         \n",
            "                                                                 \n",
            " dense_6 (Dense)             (None, 4096)              102764544 \n",
            "                                                                 \n",
            " dense_7 (Dense)             (None, 4096)              16781312  \n",
            "                                                                 \n",
            " dense_8 (Dense)             (None, 2)                 8194      \n",
            "                                                                 \n",
            "=================================================================\n",
            "Total params: 134,267,586\n",
            "Trainable params: 134,267,586\n",
            "Non-trainable params: 0\n",
            "_________________________________________________________________\n",
            "Epoch 1/30\n"
          ]
        },
        {
          "output_type": "stream",
          "name": "stderr",
          "text": [
            "/usr/local/lib/python3.10/dist-packages/keras/optimizers/legacy/adam.py:117: UserWarning: The `lr` argument is deprecated, use `learning_rate` instead.\n",
            "  super().__init__(name, **kwargs)\n"
          ]
        },
        {
          "output_type": "stream",
          "name": "stdout",
          "text": [
            "6/6 [==============================] - 4s 523ms/step - loss: 0.6921 - accuracy: 0.5714 - val_loss: 0.6873 - val_accuracy: 0.6122\n",
            "Epoch 2/30\n",
            "6/6 [==============================] - 3s 479ms/step - loss: 0.6702 - accuracy: 0.6099 - val_loss: 0.6580 - val_accuracy: 0.6122\n",
            "Epoch 3/30\n",
            "6/6 [==============================] - 3s 481ms/step - loss: 0.6490 - accuracy: 0.6099 - val_loss: 0.6419 - val_accuracy: 0.6122\n",
            "Epoch 4/30\n",
            "6/6 [==============================] - 3s 482ms/step - loss: 0.6349 - accuracy: 0.6154 - val_loss: 0.6212 - val_accuracy: 0.6122\n",
            "Epoch 5/30\n",
            "6/6 [==============================] - 3s 471ms/step - loss: 0.5955 - accuracy: 0.6484 - val_loss: 0.5917 - val_accuracy: 0.7143\n",
            "Epoch 6/30\n",
            "6/6 [==============================] - 3s 487ms/step - loss: 0.5482 - accuracy: 0.7198 - val_loss: 0.5830 - val_accuracy: 0.7551\n",
            "Epoch 7/30\n",
            "6/6 [==============================] - 3s 473ms/step - loss: 0.5481 - accuracy: 0.7473 - val_loss: 0.5611 - val_accuracy: 0.6735\n",
            "Epoch 8/30\n",
            "6/6 [==============================] - 3s 479ms/step - loss: 0.5112 - accuracy: 0.7582 - val_loss: 0.5743 - val_accuracy: 0.7347\n",
            "Epoch 9/30\n",
            "6/6 [==============================] - 3s 483ms/step - loss: 0.5020 - accuracy: 0.7912 - val_loss: 0.5479 - val_accuracy: 0.7347\n",
            "Epoch 10/30\n",
            "6/6 [==============================] - 3s 482ms/step - loss: 0.5047 - accuracy: 0.7637 - val_loss: 0.6056 - val_accuracy: 0.7755\n",
            "Epoch 11/30\n",
            "6/6 [==============================] - 3s 485ms/step - loss: 0.4915 - accuracy: 0.7802 - val_loss: 0.5302 - val_accuracy: 0.7551\n",
            "Epoch 12/30\n",
            "6/6 [==============================] - 3s 498ms/step - loss: 0.4749 - accuracy: 0.7802 - val_loss: 0.5380 - val_accuracy: 0.7347\n",
            "Epoch 13/30\n",
            "6/6 [==============================] - 3s 509ms/step - loss: 0.4622 - accuracy: 0.7692 - val_loss: 0.5259 - val_accuracy: 0.7755\n",
            "Epoch 14/30\n",
            "6/6 [==============================] - 3s 493ms/step - loss: 0.4603 - accuracy: 0.7747 - val_loss: 0.5109 - val_accuracy: 0.7551\n",
            "Epoch 15/30\n",
            "6/6 [==============================] - 3s 501ms/step - loss: 0.4510 - accuracy: 0.7857 - val_loss: 0.5086 - val_accuracy: 0.7551\n",
            "Epoch 16/30\n",
            "6/6 [==============================] - 3s 514ms/step - loss: 0.4220 - accuracy: 0.7857 - val_loss: 0.5659 - val_accuracy: 0.7755\n",
            "Epoch 17/30\n",
            "6/6 [==============================] - 3s 523ms/step - loss: 0.4156 - accuracy: 0.8132 - val_loss: 0.5020 - val_accuracy: 0.7551\n",
            "Epoch 18/30\n",
            "6/6 [==============================] - 3s 515ms/step - loss: 0.4067 - accuracy: 0.7967 - val_loss: 0.5127 - val_accuracy: 0.7755\n",
            "Epoch 19/30\n",
            "6/6 [==============================] - 3s 526ms/step - loss: 0.3777 - accuracy: 0.8242 - val_loss: 0.5914 - val_accuracy: 0.7551\n",
            "Epoch 20/30\n",
            "6/6 [==============================] - 3s 515ms/step - loss: 0.3382 - accuracy: 0.8462 - val_loss: 0.5477 - val_accuracy: 0.7347\n",
            "Epoch 21/30\n",
            "6/6 [==============================] - 3s 518ms/step - loss: 0.3169 - accuracy: 0.8516 - val_loss: 0.5742 - val_accuracy: 0.7551\n",
            "Epoch 21: early stopping\n"
          ]
        },
        {
          "output_type": "stream",
          "name": "stderr",
          "text": [
            "WARNING:absl:Found untraced functions such as _jit_compiled_convolution_op, _jit_compiled_convolution_op, _jit_compiled_convolution_op, _jit_compiled_convolution_op, _jit_compiled_convolution_op while saving (showing 5 of 13). These functions will not be directly callable after loading.\n"
          ]
        }
      ],
      "source": [
        "from keras import callbacks\n",
        "import keras\n",
        "from keras.models import Sequential                        # This gets our neuralnetwork as Sequential network as we know it can be sequential layers or graph.\n",
        "from tensorflow.keras.layers import Conv2D                 # We are working with images. All the images are basically 2D.\n",
        "from tensorflow.keras.layers import MaxPooling2D           # We choose max pooling.\n",
        "from tensorflow.keras.layers import Flatten                # The process of converting all the resultant 2D arrays into a single long continous linear vector.\n",
        "from tensorflow.keras.layers import Dense                  # The last step! The full connection of the neural network is performed with this Dense.\n",
        "from tensorflow.keras.models import Model\n",
        "from tensorflow.keras.layers import Input\n",
        "\n",
        "#Defining input image shape\n",
        "_input = Input((img_size, img_size,1))\n",
        "\n",
        "#Building VGG-16 Model\n",
        "conv1  = Conv2D(filters=64, kernel_size=(3,3), padding=\"same\", activation=\"relu\")(_input)\n",
        "conv2  = Conv2D(filters=64, kernel_size=(3,3), padding=\"same\", activation=\"relu\")(conv1)\n",
        "pool1  = MaxPooling2D((2, 2))(conv2)\n",
        "\n",
        "conv3  = Conv2D(filters=128, kernel_size=(3,3), padding=\"same\", activation=\"relu\")(pool1)\n",
        "conv4  = Conv2D(filters=128, kernel_size=(3,3), padding=\"same\", activation=\"relu\")(conv3)\n",
        "pool2  = MaxPooling2D((2, 2))(conv4)\n",
        "\n",
        "conv5  = Conv2D(filters=256, kernel_size=(3,3), padding=\"same\", activation=\"relu\")(pool2)\n",
        "conv6  = Conv2D(filters=256, kernel_size=(3,3), padding=\"same\", activation=\"relu\")(conv5)\n",
        "conv7  = Conv2D(filters=256, kernel_size=(3,3), padding=\"same\", activation=\"relu\")(conv6)\n",
        "pool3  = MaxPooling2D((2, 2))(conv7)\n",
        "\n",
        "conv8  = Conv2D(filters=512, kernel_size=(3,3), padding=\"same\", activation=\"relu\")(pool3)\n",
        "conv9  = Conv2D(filters=512, kernel_size=(3,3), padding=\"same\", activation=\"relu\")(conv8)\n",
        "conv10 = Conv2D(filters=512, kernel_size=(3,3), padding=\"same\", activation=\"relu\")(conv9)\n",
        "pool4  = MaxPooling2D((2, 2))(conv10)\n",
        "\n",
        "conv11 = Conv2D(filters=512, kernel_size=(3,3), padding=\"same\", activation=\"relu\")(pool4)\n",
        "conv12 = Conv2D(filters=512, kernel_size=(3,3), padding=\"same\", activation=\"relu\")(conv11)\n",
        "conv13 = Conv2D(filters=512, kernel_size=(3,3), padding=\"same\", activation=\"relu\")(conv12)\n",
        "pool5  = MaxPooling2D((2, 2))(conv13)\n",
        "\n",
        "flat   = Flatten()(pool5)\n",
        "#fully connected layers\n",
        "dense1 = Dense(4096, activation=\"relu\")(flat)\n",
        "dense2 = Dense(4096, activation=\"relu\")(dense1)\n",
        "output = Dense(2, activation=\"softmax\")(dense2)\n",
        "\n",
        "vgg16_model  = Model(inputs=_input, outputs=output)\n",
        "vgg16_model.summary()\n",
        "\n",
        "from keras.optimizers import Adam\n",
        "opt = Adam(lr=3e-5)\n",
        "vgg16_model.compile(optimizer=opt, loss=keras.losses.categorical_crossentropy, metrics=['accuracy'])\n",
        "\n",
        "from keras.callbacks import EarlyStopping\n",
        "early_stop = EarlyStopping(monitor='val_loss', patience=4, verbose=1)\n",
        "\n",
        "from keras.models import load_model\n",
        "if (os.path.exists('model.tfl')):\n",
        "    vgg16_model=load_model('./model.tfl')\n",
        "else:\n",
        "    # Fit the model using the perturbed data\n",
        "    vgg16_model.fit( x_train,  y_train,\n",
        "                    validation_data=(x_validate, y_validate),\n",
        "                    epochs=30, callbacks=[early_stop],\n",
        "                    batch_size=32)\n",
        "    vgg16_model.save('Vgg16_model.tfl')"
      ]
    },
    {
      "cell_type": "code",
      "execution_count": null,
      "metadata": {
        "id": "HP05OS3aqFOh",
        "colab": {
          "base_uri": "https://localhost:8080/",
          "height": 600
        },
        "outputId": "dafc041c-0ed6-43bd-8676-c77c51c67ffa"
      },
      "outputs": [
        {
          "output_type": "stream",
          "name": "stdout",
          "text": [
            "2/2 [==============================] - 1s 151ms/step\n",
            "34\n",
            "15\n",
            "49\n"
          ]
        },
        {
          "output_type": "display_data",
          "data": {
            "text/plain": [
              "<Figure size 640x480 with 2 Axes>"
            ],
            "image/png": "[encoded data removed]"
          },
          "metadata": {}
        },
        {
          "output_type": "stream",
          "name": "stdout",
          "text": [
            "Validation Accuracy: 0.7551020408163265\n",
            "F1 score: 0.7483493397358945\n",
            "Recall: 0.7551020408163265\n",
            "Precision: 0.7525410164065625\n"
          ]
        }
      ],
      "source": [
        "#Model Evaluation\n",
        "y_pred = vgg16_model.predict(x_validate)\n",
        "y_pred_classes = np.argmax(y_pred, axis=1)\n",
        "NO=0\n",
        "YES=0\n",
        "for i in y_pred_classes:\n",
        "  if i==0:\n",
        "    NO+=1\n",
        "  else:\n",
        "    YES+=1\n",
        "print(NO)\n",
        "print(YES)  \n",
        "print(len(y_pred_classes))\n",
        "\n",
        "#Confusion Matrix\n",
        "import matplotlib.pyplot as plt\n",
        "from sklearn.metrics import confusion_matrix\n",
        "cm = confusion_matrix(np.argmax(y_validate, axis=1), y_pred_classes)\n",
        "\n",
        "# Compute the confusion matrix\n",
        "\n",
        "# Define the class labels\n",
        "classes = ['Yes', 'No']\n",
        "\n",
        "# Plot the confusion matrix\n",
        "plt.imshow(cm, interpolation='nearest', cmap=plt.cm.Blues)\n",
        "plt.colorbar()\n",
        "tick_marks = np.arange(len(classes))\n",
        "plt.xticks(tick_marks, classes, rotation=45)\n",
        "plt.yticks(tick_marks, classes)\n",
        "thresh = cm.max() / 2.\n",
        "for i, j in np.ndindex(cm.shape):\n",
        "    plt.text(j, i, format(cm[i, j], 'd'),\n",
        "             horizontalalignment=\"center\",\n",
        "             color=\"white\" if cm[i, j] > thresh else \"black\")\n",
        "plt.xlabel('Predicted label')\n",
        "plt.ylabel('True label')\n",
        "plt.show()\n",
        "\n",
        "from sklearn.metrics import accuracy_score, f1_score, recall_score, precision_score\n",
        "acc = accuracy_score(np.argmax(y_validate, axis=1), y_pred_classes)\n",
        "f1 = f1_score(np.argmax(y_validate, axis=1), y_pred_classes, average='weighted')\n",
        "recall = recall_score(np.argmax(y_validate, axis=1), y_pred_classes, average='weighted')\n",
        "precision = precision_score(np.argmax(y_validate, axis=1), y_pred_classes, average='weighted')\n",
        "\n",
        "print('Validation Accuracy:', acc)\n",
        "print('F1 score:', f1)\n",
        "print('Recall:', recall)\n",
        "print('Precision:', precision)"
      ]
    },
    {
      "cell_type": "code",
      "execution_count": null,
      "metadata": {
        "id": "08kGvjLWqmsv",
        "colab": {
          "base_uri": "https://localhost:8080/"
        },
        "outputId": "2f5ce379-fd5d-4066-9a47-64ca634efeff"
      },
      "outputs": [
        {
          "output_type": "stream",
          "name": "stdout",
          "text": [
            "1/1 [==============================] - 0s 33ms/step\n",
            "/content/Brain tumor/TEST/Y53.jpg\n",
            "1/1 [==============================] - 0s 33ms/step\n",
            "/content/Brain tumor/TEST/NO (72).jpg\n",
            "1/1 [==============================] - 0s 52ms/step\n",
            "/content/Brain tumor/TEST/Y107.jpg\n",
            "1/1 [==============================] - 0s 35ms/step\n",
            "/content/Brain tumor/TEST/Y58.JPG\n",
            "1/1 [==============================] - 0s 30ms/step\n",
            "/content/Brain tumor/TEST/NO (91).jpg\n",
            "1/1 [==============================] - 0s 32ms/step\n",
            "/content/Brain tumor/TEST/NO (85).jpg\n",
            "1/1 [==============================] - 0s 29ms/step\n",
            "/content/Brain tumor/TEST/NO (56).jpg\n",
            "1/1 [==============================] - 0s 29ms/step\n",
            "/content/Brain tumor/TEST/Y60.jpg\n",
            "1/1 [==============================] - 0s 41ms/step\n",
            "/content/Brain tumor/TEST/Y251.JPG\n",
            "1/1 [==============================] - 0s 43ms/step\n",
            "/content/Brain tumor/TEST/NO (74).jpg\n",
            "1/1 [==============================] - 0s 30ms/step\n",
            "/content/Brain tumor/TEST/Y34.jpg\n",
            "1/1 [==============================] - 0s 31ms/step\n",
            "/content/Brain tumor/TEST/NO (7).jpg\n",
            "1/1 [==============================] - 0s 31ms/step\n",
            "/content/Brain tumor/TEST/Y30.jpg\n",
            "1/1 [==============================] - 0s 33ms/step\n",
            "/content/Brain tumor/TEST/NO (54).jpg\n",
            "1/1 [==============================] - 0s 35ms/step\n",
            "/content/Brain tumor/TEST/NO (86).jpg\n",
            "1/1 [==============================] - 0s 31ms/step\n",
            "/content/Brain tumor/TEST/Y185.jpg\n",
            "1/1 [==============================] - 0s 31ms/step\n",
            "/content/Brain tumor/TEST/Y112.JPG\n",
            "1/1 [==============================] - 0s 29ms/step\n",
            "/content/Brain tumor/TEST/Y255.JPG\n",
            "1/1 [==============================] - 0s 33ms/step\n",
            "/content/Brain tumor/TEST/Y92.png\n",
            "1/1 [==============================] - 0s 28ms/step\n",
            "/content/Brain tumor/TEST/Y114.JPG\n",
            "1/1 [==============================] - 0s 29ms/step\n",
            "/content/Brain tumor/TEST/Y7.jpg\n",
            "1/1 [==============================] - 0s 27ms/step\n",
            "/content/Brain tumor/TEST/Y14.jpg\n",
            "12\n",
            "2\n"
          ]
        }
      ],
      "source": [
        "#Test\n",
        "from tqdm import tqdm\n",
        "import pandas as pd\n",
        "import os\n",
        "paths = []\n",
        "\n",
        "\n",
        "Test_Dir='/content/Brain tumor/TEST'\n",
        "for img in os.listdir(Test_Dir):\n",
        "    path = os.path.join(Test_Dir, img)\n",
        "    paths.append(path)\n",
        "\n",
        "import cv2\n",
        "names = []\n",
        "rows = []\n",
        "NO=0\n",
        "YES=0\n",
        "for img in paths:\n",
        "        label=''\n",
        "        names.append(img[:])\n",
        "        path = os.path.join(Test_Dir, img)\n",
        "        img_data = cv2.imread(path, 0)\n",
        "        img_data = cv2.resize(img_data, (224, 224))\n",
        "        img_data = img_data.reshape(224,224,1)\n",
        "        prediction =vgg16_model.predict(img_data.reshape(-1,224,224,1))[0]\n",
        "        #print(prediction[:].tolist())\n",
        "        max_value = max(prediction[:].tolist())\n",
        "        index = prediction[:].tolist().index(max_value)\n",
        "        if index == 0:\n",
        "          label=\"Yes\"\n",
        "          rows.append(\"Yes\")\n",
        "            \n",
        "        else:\n",
        "            label=\"No\"\n",
        "            rows.append(\"No\")\n",
        "        print(img)   \n",
        "        if img[26]==\"Y\" and label == \"Yes\":\n",
        "          YES+=1\n",
        "        elif img[26]==\"N\" and label ==\"No\":\n",
        "          NO+=1   \n",
        "\n",
        "dict = {\"image_name\": names, \"label\": rows}\n",
        "df = pd.DataFrame(dict)\n",
        "print(YES)\n",
        "print(NO)\n",
        "# saving the dataframe\n",
        "df.to_csv('final.csv',index=False)\n",
        "#14 8"
      ]
    }
  ],
  "metadata": {
    "accelerator": "GPU",
    "colab": {
      "collapsed_sections": [
        "OHyOBHHeRD2M",
        "Gs3aiQyeygvn"
      ],
      "provenance": [],
      "gpuType": "T4",
      "include_colab_link": true
    },
    "gpuClass": "standard",
    "kernelspec": {
      "display_name": "Python 3",
      "name": "python3"
    },
    "language_info": {
      "name": "python"
    }
  },
  "nbformat": 4,
  "nbformat_minor": 0
}
